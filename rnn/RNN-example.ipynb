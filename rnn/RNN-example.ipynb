{
 "cells": [
  {
   "cell_type": "markdown",
   "metadata": {},
   "source": [
    "### RNN example\n",
    "\n",
    "In this notebook we will see an example of the RNN built in `RNN.py`. In this example we will be using the data `person_names.txt` to create new names."
   ]
  },
  {
   "cell_type": "code",
   "execution_count": 1,
   "metadata": {},
   "outputs": [],
   "source": [
    "import numpy as np\n",
    "from RNN import RNNModel\n",
    "from RNN_utils import SGD, one_hot_encoding"
   ]
  },
  {
   "cell_type": "markdown",
   "metadata": {},
   "source": [
    "Lets set the random.seed in order to generate always the same weights."
   ]
  },
  {
   "cell_type": "code",
   "execution_count": 2,
   "metadata": {},
   "outputs": [],
   "source": [
    "np.random.seed(1)"
   ]
  },
  {
   "cell_type": "markdown",
   "metadata": {},
   "source": [
    "### Data\n",
    "The data contains 18239 names."
   ]
  },
  {
   "cell_type": "code",
   "execution_count": 3,
   "metadata": {},
   "outputs": [],
   "source": [
    "person_names = open('person_names.txt', 'r').read()\n",
    "person_names= person_names.lower()\n",
    "characters = list(set(person_names))\n",
    "\n",
    "character_to_index = {character:index for index,character in enumerate(sorted(characters))}\n",
    "index_to_character = {index:character for index,character in enumerate(sorted(characters))}\n",
    "\n",
    "with open(\"person_names.txt\") as f:\n",
    "    person_names = f.readlines()\n",
    "\n",
    "person_names = [name.lower().strip() for name in person_names]\n",
    "np.random.shuffle(person_names)"
   ]
  },
  {
   "cell_type": "markdown",
   "metadata": {},
   "source": [
    "### Model\n",
    "\n",
    "#### Define the model"
   ]
  },
  {
   "cell_type": "code",
   "execution_count": 4,
   "metadata": {},
   "outputs": [],
   "source": [
    "num_epochs = 100001\n",
    "input_dim = 27\n",
    "output_dim = 27\n",
    "hidden_dim = 50\n",
    "\n",
    "# initialize and define the model hyperparamaters\n",
    "model = RNNModel(input_dim, output_dim, hidden_dim)\n",
    "optim = SGD(lr=0.01)\n",
    "costs = []"
   ]
  },
  {
   "cell_type": "markdown",
   "metadata": {},
   "source": [
    "#### Train the model"
   ]
  },
  {
   "cell_type": "code",
   "execution_count": 5,
   "metadata": {
    "scrolled": false
   },
   "outputs": [
    {
     "name": "stdout",
     "output_type": "stream",
     "text": [
      "Cost after iteration 0: 22.388388\n",
      "Names created: \n",
      "\n",
      "wiibjnaswxngbih\n",
      "msprglszcxepjjg\n",
      "ntlipdryxt\n",
      "\n",
      "minjhhsixfxkfo\n",
      "\n",
      "Cost after iteration 10000: 26.761209\n",
      "Names created: \n",
      "\n",
      "skorley\n",
      "\n",
      "tisole\n",
      "\n",
      "dyanera\n",
      "\n",
      "koenopa\n",
      "\n",
      "Cost after iteration 20000: 16.745427\n",
      "Names created: \n",
      "\n",
      "harila\n",
      "\n",
      "roecestlp\n",
      "\n",
      "shanjeel\n",
      "\n",
      "desimr\n",
      "\n",
      "Cost after iteration 30000: 16.910528\n",
      "Names created: \n",
      "\n",
      "kica\n",
      "\n",
      "nellinaykes\n",
      "\n",
      "raovisha\n",
      "\n",
      "ermmur\n",
      "\n",
      "Cost after iteration 40000: 16.226669\n",
      "Names created: \n",
      "\n",
      "maryan\n",
      "\n",
      "mily\n",
      "\n",
      "seryna\n",
      "\n",
      "shaques\n",
      "\n",
      "Cost after iteration 50000: 10.407306\n",
      "Names created: \n",
      "\n",
      "audia\n",
      "\n",
      "alloca\n",
      "\n",
      "shennyani\n",
      "\n",
      "jelen\n",
      "\n",
      "Cost after iteration 60000: 13.458587\n",
      "Names created: \n",
      "\n",
      "daysel\n",
      "\n",
      "telonan\n",
      "\n",
      "darsa\n",
      "\n",
      "datnony\n",
      "\n",
      "Cost after iteration 70000: 10.994556\n",
      "Names created: \n",
      "\n",
      "malvon\n",
      "\n",
      "denro\n",
      "\n",
      "daressa\n",
      "\n",
      "ebincan\n",
      "\n",
      "Cost after iteration 80000: 10.976717\n",
      "Names created: \n",
      "\n",
      "shawnona\n",
      "\n",
      "lanom\n",
      "\n",
      "ishardul\n",
      "\n",
      "rencorivon\n",
      "\n",
      "Cost after iteration 90000: 23.779332\n",
      "Names created: \n",
      "\n",
      "lerdy\n",
      "\n",
      "divorris\n",
      "\n",
      "xistdon\n",
      "\n",
      "scaran\n",
      "\n",
      "Cost after iteration 100000: 16.581305\n",
      "Names created: \n",
      "\n",
      "dedbid\n",
      "\n",
      "jern\n",
      "\n",
      "deylhe\n",
      "\n",
      "tonnay\n",
      "\n"
     ]
    }
   ],
   "source": [
    "# Training\n",
    "for epoch in range(num_epochs):\n",
    "    \n",
    "    # create the X inputs and Y labels\n",
    "    index = epoch % len(person_names)\n",
    "    X = [None] + [character_to_index[ch] for ch in person_names[index]] \n",
    "    Y = X[1:] + [character_to_index[\"\\n\"]]\n",
    "\n",
    "    # transform the input X and label Y into one hot enconding.\n",
    "    X = one_hot_encoding(X, input_dim)\n",
    "    Y = one_hot_encoding(Y, output_dim)\n",
    "    \n",
    "    # steps of the model\n",
    "    model.forward(X)\n",
    "    cost = model.loss(Y)\n",
    "    model.backward()\n",
    "    # clip gradients\n",
    "    model.clip(clip_value=1)\n",
    "    # optimize\n",
    "    model.optimize(optim)\n",
    "\n",
    "    if epoch % 10000 == 0:\n",
    "        print (\"Cost after iteration %d: %f\" % (epoch, cost))\n",
    "        costs.append(cost)\n",
    "\n",
    "        print('Names created:', '\\n')\n",
    "        for i in range(4):\n",
    "            name = model.generate_names(index_to_character)\n",
    "            print(name)"
   ]
  },
  {
   "cell_type": "code",
   "execution_count": null,
   "metadata": {},
   "outputs": [],
   "source": []
  }
 ],
 "metadata": {
  "kernelspec": {
   "display_name": "mynet",
   "language": "python",
   "name": "mynet"
  },
  "language_info": {
   "codemirror_mode": {
    "name": "ipython",
    "version": 3
   },
   "file_extension": ".py",
   "mimetype": "text/x-python",
   "name": "python",
   "nbconvert_exporter": "python",
   "pygments_lexer": "ipython3",
   "version": "3.8.5"
  }
 },
 "nbformat": 4,
 "nbformat_minor": 4
}
